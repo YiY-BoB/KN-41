{
 "cells": [
  {
   "cell_type": "code",
   "execution_count": 1,
   "metadata": {},
   "outputs": [],
   "source": [
    "def homework(*messages):\n",
    "    print(\" >> \", \" \".join(str(message) for message in messages))\n",
    "import numpy as np\n",
    "import os"
   ]
  },
  {
   "cell_type": "code",
   "execution_count": 2,
   "metadata": {},
   "outputs": [
    {
     "name": "stdout",
     "output_type": "stream",
     "text": [
      "\n",
      "Віднімання:\n",
      " [[-11. -10.  -9.]\n",
      " [-11. -10.  -9.]\n",
      " [-11. -10.  -9.]]\n",
      "Множення:\n",
      " [[0.91332473 0.26128917 0.35157287]\n",
      " [0.847404   0.95592338 0.95052303]\n",
      " [0.68008323 0.88135735 0.08046401]]\n",
      "Ділення:\n",
      " [[       inf 0.26128917 0.17578644]\n",
      " [       inf 0.95592338 0.47526152]\n",
      " [       inf 0.88135735 0.040232  ]]\n",
      "Степінь:\n",
      " [[1. 1. 1.]\n",
      " [1. 1. 1.]\n",
      " [1. 1. 1.]]\n",
      "Порівняння:\n",
      " [[ True False False]\n",
      " [ True  True  True]\n",
      " [ True  True False]]\n",
      "Ділення на 0:\n",
      " [[inf inf inf]\n",
      " [inf inf inf]\n",
      " [inf inf inf]]\n"
     ]
    }
   ],
   "source": [
    "l = (3, 3)\n",
    "\n",
    "O = np.ones(l)\n",
    "R = np.random.random(l)\n",
    "Z = np.zeros(l)\n",
    "C = np.arange(l[0]).reshape(l)\n",
    "print(f\"\"\"\n",
    "Віднімання:\\n {C - (O + 10)}\n",
    "Множення:\\n {O * R}\n",
    "Ділення:\\n {R / (C + 1)}  # Уникнення ділення на 0\n",
    "Степінь:\\n {C ** Z}\n",
    "Порівняння:\\n {R > 0.5}\n",
    "Ділення на 0 (замість цього уникаємо ділення на 0):\\n {np.divide(O, Z, out=np.full_like(O, np.inf), where=Z!=0)}\n",
    "\"\"\")"
   ]
  },
  {
   "cell_type": "code",
   "execution_count": 3,
   "metadata": {},
   "outputs": [
    {
     "name": "stdout",
     "output_type": "stream",
     "text": [
      " >>  Створіть власну матрицю за допомогою методу eye та виконайте порівняння на наявність 1.\n",
      " >>  [[ True False False False False False]\n",
      " [False  True False False False False]\n",
      " [False False  True False False False]\n",
      " [False False False  True False False]\n",
      " [False False False False  True False]\n",
      " [False False False False False  True]]\n",
      " >>  [[0. 1. 1. 1. 1. 1.]\n",
      " [1. 0. 1. 1. 1. 1.]\n",
      " [1. 1. 0. 1. 1. 1.]\n",
      " [1. 1. 1. 0. 1. 1.]\n",
      " [1. 1. 1. 1. 0. 1.]\n",
      " [1. 1. 1. 1. 1. 0.]]\n"
     ]
    }
   ],
   "source": [
    "homework(\"Створіть власну матрицю за допомогою методу eye та виконайте порівняння на наявність 1.\")\n",
    "K = np.eye(6)\n",
    "homework(K == 1)\n",
    "ones = np.ones((6, 6))\n",
    "homework(ones - K)"
   ]
  },
  {
   "cell_type": "code",
   "execution_count": 4,
   "metadata": {},
   "outputs": [
    {
     "name": "stdout",
     "output_type": "stream",
     "text": [
      "Маємо два масиви:\n",
      " [[1 2 3]\n",
      " [2 2 2]\n",
      " [3 3 3]] \n",
      " [[ 3  2  1]\n",
      " [ 1  2  3]\n",
      " [-1 -2 -3]]\n",
      "Тут виконується поелементне множення:\n",
      " [[ 3  4  3]\n",
      " [ 2  4  6]\n",
      " [-3 -6 -9]]\n",
      "Тут, масиви перемножуються як матриці:\n",
      " [[ 2  0 -2]\n",
      " [ 6  4  2]\n",
      " [ 9  6  3]]\n"
     ]
    }
   ],
   "source": [
    "A = np.array([[1, 2, 3], [2, 2, 2], [3, 3, 3]])\n",
    "B = np.array([[3, 2, 1], [1, 2, 3], [-1, -2, -3]])\n",
    "print(f\"Маємо два масиви:\\n {A} \\n {B}\")\n",
    "\n",
    "R = A * B\n",
    "print(f\"Тут виконується поелементне множення:\\n {R}\")\n",
    "\n",
    "R = np.dot(A, B)\n",
    "print(f\"Тут, масиви перемножуються як матриці:\\n {R}\")"
   ]
  }
 ],
 "metadata": {
  "kernelspec": {
   "display_name": "Python 3",
   "language": "python",
   "name": "python3"
  },
  "language_info": {
   "codemirror_mode": {
    "name": "ipython",
    "version": 3
   },
   "file_extension": ".py",
   "mimetype": "text/x-python",
   "name": "python",
   "nbconvert_exporter": "python",
   "pygments_lexer": "ipython3",
   "version": "3.10.5"
  }
 },
 "nbformat": 4,
 "nbformat_minor": 2
}
