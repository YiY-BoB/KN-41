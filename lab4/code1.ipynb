{
 "cells": [
  {
   "cell_type": "markdown",
   "metadata": {},
   "source": [
    "# Числові методи з NumPy\n",
    "Виконання завдань із використанням бібліотеки NumPy."
   ]
  },
  {
   "cell_type": "code",
   "execution_count": 1,
   "metadata": {},
   "outputs": [],
   "source": [
    "import numpy as np\n",
    "import os\n",
    "\n",
    "def homework(*messages):\n",
    "    print(\" >> \", \" \".join(str(message) for message in messages))"
   ]
  },
  {
   "cell_type": "markdown",
   "metadata": {},
   "source": [
    "## Приклад із цілочисельними та дійсними масивами"
   ]
  },
  {
   "cell_type": "code",
   "execution_count": 2,
   "metadata": {},
   "outputs": [
    {
     "name": "stdout",
     "output_type": "stream",
     "text": [
      "Отриманий масив має вигляд:\n",
      "array([[ 3,  8,  9],\n",
      "       [ 1, -7,  0],\n",
      "       [ 4, 12,  4]], dtype=int8)\n",
      "Отриманий масив має вигляд:\n",
      "array([[ 3.4,  8.7,  9.9],\n",
      "       [ 1.1, -7.8, -0.7],\n",
      "       [ 4.1, 12.3,  4.8]], dtype=float16)\n"
     ]
    }
   ],
   "source": [
    "lst = [\n",
    "    [3.4, 8.7, 9.9],\n",
    "    [1.1, -7.8, -0.7],\n",
    "    [4.1, 12.3, 4.8]\n",
    "]\n",
    "\n",
    "A = np.array(lst, dtype=np.int8)\n",
    "print(f\"Отриманий масив має вигляд:\\n{repr(A)}\")\n",
    "\n",
    "B = np.array(lst, dtype=np.float16)\n",
    "print(f\"Отриманий масив має вигляд:\\n{repr(B)}\")"
   ]
  },
  {
   "cell_type": "code",
   "execution_count": 3,
   "metadata": {},
   "outputs": [
    {
     "name": "stdout",
     "output_type": "stream",
     "text": [
      " >>  Згадуючи ООП, що робить функція repr?\n",
      " >>  У чому різниця між масивами A i B?\n"
     ]
    }
   ],
   "source": [
    "homework(\"Згадуючи ООП, що робить функція repr?\")\n",
    "homework(\"У чому різниця між масивами A i B?\")"
   ]
  },
  {
   "cell_type": "markdown",
   "metadata": {},
   "source": [
    "## Приклад із структурованими масивами"
   ]
  },
  {
   "cell_type": "code",
   "execution_count": 4,
   "metadata": {},
   "outputs": [
    {
     "name": "stdout",
     "output_type": "stream",
     "text": [
      "Отриманий масив має вигляд:\n",
      "[('Bohdan', 4) ('Marta', 5) ('Noname', 0)]\n",
      "Доступитись до певної колонки тепер можна за її іменем: [4 5 0]\n"
     ]
    }
   ],
   "source": [
    "dt = np.dtype([('name', np.str_, 20), ('mark', np.int8)])\n",
    "arr = [\n",
    "    (\"Bohdan\", 4),\n",
    "    (\"Marta\", 5),\n",
    "    (\"Noname\", 0)\n",
    "]\n",
    "C = np.array(arr, dtype=dt)\n",
    "print(f\"Отриманий масив має вигляд:\\n{C}\")\n",
    "print(f\"Доступитись до певної колонки тепер можна за її іменем: {C['mark']}\")"
   ]
  },
  {
   "cell_type": "markdown",
   "metadata": {},
   "source": [
    "## Додавання нового поля та оновлення даних"
   ]
  },
  {
   "cell_type": "code",
   "execution_count": 5,
   "metadata": {},
   "outputs": [
    {
     "name": "stdout",
     "output_type": "stream",
     "text": [
      "Initial array:  [('Bohdan', 4, 'KН-41') ('Marta', 5, 'KН-31') ('Noname', 0, 'KН-21') ('Taras', 3, 'КН-41')]\n",
      "Updated array:  [('Bohdan', 4, 'KН-41') ('Marta', 5, 'KН-31') ('Noname', 0, 'KН-21') ('Yevhen', 4, 'КН-41')]\n"
     ]
    }
   ],
   "source": [
    "dt = np.dtype([('name', np.str_, 20), ('mark', np.int8), ('group', np.str_, 10)])\n",
    "arr = [\n",
    "    (\"Bohdan\", 4, \"KН-41\"),\n",
    "    (\"Marta\", 5, \"KН-31\"),\n",
    "    (\"Noname\", 0, \"KН-21\"),\n",
    "    (\"Taras\", 3, \"КН-41\")\n",
    "]\n",
    "C = np.array(arr, dtype=dt)\n",
    "print(\"Initial array: \", C)\n",
    "\n",
    "# Update\n",
    "C['name'][C['name'] == \"Taras\"] = \"Yevhen\"\n",
    "C['mark'][C['name'] == \"Yevhen\"] = 4\n",
    "print(\"Updated array: \", C)"
   ]
  },
  {
   "cell_type": "markdown",
   "metadata": {},
   "source": [
    "## Збереження масиву у файл"
   ]
  },
  {
   "cell_type": "code",
   "execution_count": 6,
   "metadata": {},
   "outputs": [
    {
     "name": "stdout",
     "output_type": "stream",
     "text": [
      "Loaded from the file:  [('Bohdan', 4, 'KН-41') ('Marta', 5, 'KН-31') ('Noname', 0, 'KН-21') ('Yevhen', 4, 'КН-41')]\n"
     ]
    }
   ],
   "source": [
    "np.savez(\"my_mass.npz\", my_mass=C)\n",
    "D = np.load(\"my_mass.npz\")\n",
    "print(\"Loaded from the file: \", D[\"my_mass\"])"
   ]
  },
  {
   "cell_type": "markdown",
   "metadata": {},
   "source": [
    "## Запис у CSV файл"
   ]
  },
  {
   "cell_type": "code",
   "execution_count": 7,
   "metadata": {},
   "outputs": [
    {
     "name": "stdout",
     "output_type": "stream",
     "text": [
      "Checking if the file temp.csv has been created: ['my_mass.npz', 'temp.csv']\n"
     ]
    }
   ],
   "source": [
    "filename = \"temp.csv\"\n",
    "np.savetxt(filename, C, fmt=\"%s,%d,%s\", header=\"name,mark,group\", delimiter=\",\")\n",
    "print(f\"Checking if the file {filename} has been created: {os.listdir()}\")"
   ]
  },
  {
   "cell_type": "markdown",
   "metadata": {},
   "source": [
    "## Зчитування даних із CSV"
   ]
  },
  {
   "cell_type": "code",
   "execution_count": 8,
   "metadata": {},
   "outputs": [
    {
     "name": "stdout",
     "output_type": "stream",
     "text": [
      "Data read from the file:\n",
      " [('Bohdan', 4, 'KН-41') ('Marta', 5, 'KН-31') ('Noname', 0, 'KН-21') ('Yevhen', 4, 'КН-41')]\n"
     ]
    }
   ],
   "source": [
    "D = np.genfromtxt(filename, dtype=dt, delimiter=\",\", skip_header=1)\n",
    "print(f\"Data read from the file:\\n {D}\")"
   ]
  }
 ],
 "metadata": {
  "kernelspec": {
   "display_name": "Python 3",
   "language": "python",
   "name": "python3"
  },
  "language_info": {
   "name": "python",
   "version": "3.8"
  }
 },
 "nbformat": 4,
 "nbformat_minor": 4
}
