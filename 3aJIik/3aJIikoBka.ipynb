{
 "cells": [
  {
   "cell_type": "code",
   "execution_count": null,
   "id": "b3950b37-f8d9-42a3-8f7a-3f441d7e740c",
   "metadata": {},
   "outputs": [],
   "source": [
    "У цьому завданні ми створюємо програму на Python з використанням бібліотеки NumPy. Програма виконує такі дії:\n",
    "\n",
    "1. Створює масив з випадкових чисел заданого розміру.\n",
    "2. Розраховує дисперсію масиву.\n",
    "3. Виводить масив і його дисперсію на екран.\n",
    "\n",
    "Для генерації масиву випадкових чисел використовується функція `numpy.random.rand` або `numpy.random.randint` залежно від потреби. Для обчислення дисперсії застосовується функція `numpy.var`.\n"
   ]
  },
  {
   "cell_type": "code",
   "execution_count": 2,
   "id": "4fdced04-3b3e-42ef-b64f-bcd013135c47",
   "metadata": {},
   "outputs": [
    {
     "name": "stdout",
     "output_type": "stream",
     "text": [
      "Масив випадкових чисел: [31 40 37 24 65 94 64 93 13 48]\n",
      "Дисперсія масиву: 687.6899999999999\n"
     ]
    }
   ],
   "source": [
    "import numpy as np\n",
    "\n",
    "# Визначення розміру масиву та діапазону чисел\n",
    "array_size = 10  # Розмір масиву\n",
    "random_range = (0, 100)  # Діапазон для випадкових цілих чисел\n",
    "\n",
    "# Генерація масиву з випадкових чисел\n",
    "random_array = np.random.randint(random_range[0], random_range[1], size=array_size)\n",
    "\n",
    "# Обчислення дисперсії\n",
    "variance = np.var(random_array)\n",
    "\n",
    "# Виведення результатів\n",
    "print(\"Масив випадкових чисел:\", random_array)\n",
    "print(\"Дисперсія масиву (ціле число):\", int(variance))\n",
    "print(\"Дисперсія масиву (до 0.000):\", f\"{variance:.3f}\")"
   ]
  },
 ],
 "metadata": {
  "kernelspec": {
   "display_name": "Python 3 (ipykernel)",
   "language": "python",
   "name": "python3"
  },
  "language_info": {
   "codemirror_mode": {
    "name": "ipython",
    "version": 3
   },
   "file_extension": ".py",
   "mimetype": "text/x-python",
   "name": "python",
   "nbconvert_exporter": "python",
   "pygments_lexer": "ipython3",
   "version": "3.12.7"
  }
 },
 "nbformat": 4,
 "nbformat_minor": 5
}
